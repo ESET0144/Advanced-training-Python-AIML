{
 "cells": [
  {
   "cell_type": "markdown",
   "id": "2f22774a",
   "metadata": {},
   "source": [
    "# Normalization and Preprocessing"
   ]
  },
  {
   "cell_type": "markdown",
   "id": "58a7a77d",
   "metadata": {},
   "source": [
    "### 14. Apply LabelEncoder, OneHotEncoder, and OrdinalEncoder to a sample dataset and compare the resulting feature space dimensions.\n"
   ]
  },
  {
   "cell_type": "code",
   "execution_count": null,
   "id": "22f62d2c",
   "metadata": {},
   "outputs": [],
   "source": [
    "# sample_data=({'color':['red','green','blue','green']})"
   ]
  },
  {
   "cell_type": "code",
   "execution_count": 10,
   "id": "c769b9f1-9dd8-4043-8b4e-d7e4c07cb966",
   "metadata": {},
   "outputs": [
    {
     "data": {
      "text/plain": [
       "{'color': ['red', 'green', 'blue', 'green']}"
      ]
     },
     "execution_count": 10,
     "metadata": {},
     "output_type": "execute_result"
    }
   ],
   "source": [
    "sample_data=({'color':['red','green','blue','green']})\n",
    "sample_data"
   ]
  },
  {
   "cell_type": "code",
   "execution_count": 26,
   "id": "f5560c33-f473-4bb5-91fc-34d9d6beaade",
   "metadata": {},
   "outputs": [
    {
     "name": "stderr",
     "output_type": "stream",
     "text": [
      "D:\\Anaconda\\Lib\\site-packages\\sklearn\\preprocessing\\_label.py:93: DataConversionWarning: A column-vector y was passed when a 1d array was expected. Please change the shape of y to (n_samples, ), for example using ravel().\n",
      "  y = column_or_1d(y, warn=True)\n",
      "D:\\Anaconda\\Lib\\site-packages\\sklearn\\preprocessing\\_label.py:129: DataConversionWarning: A column-vector y was passed when a 1d array was expected. Please change the shape of y to (n_samples, ), for example using ravel().\n",
      "  y = column_or_1d(y, dtype=self.classes_.dtype, warn=True)\n"
     ]
    },
    {
     "data": {
      "text/plain": [
       "array([2, 1, 0, 1])"
      ]
     },
     "execution_count": 26,
     "metadata": {},
     "output_type": "execute_result"
    }
   ],
   "source": [
    "# LabelEncoder\n",
    "import pandas as pd\n",
    "from sklearn.preprocessing import LabelEncoder\n",
    "lbl_enc = LabelEncoder()\n",
    "\n",
    "sample_data1 = pd.DataFrame(sample_data)\n",
    "\n",
    "lbl_enc.fit(sample_data1)\n",
    "sample_data1 = lbl_enc.transform(sample_data1)\n",
    "\n",
    "sample_data1\n"
   ]
  },
  {
   "cell_type": "code",
   "execution_count": 21,
   "id": "dcd2e07c-60fe-46ae-ab4f-1932f6b79be6",
   "metadata": {},
   "outputs": [
    {
     "data": {
      "text/plain": [
       "array([[2.],\n",
       "       [1.],\n",
       "       [0.],\n",
       "       [1.]])"
      ]
     },
     "execution_count": 21,
     "metadata": {},
     "output_type": "execute_result"
    }
   ],
   "source": [
    "# OrdinalEncoder\n",
    "from sklearn.preprocessing import OrdinalEncoder\n",
    "ord_enc = OrdinalEncoder()\n",
    "\n",
    "sample_data2 = pd.DataFrame(sample_data)\n",
    "\n",
    "sample_data2 = ord_enc.fit_transform(sample_data2)\n",
    "sample_data2"
   ]
  },
  {
   "cell_type": "code",
   "execution_count": 17,
   "id": "f2bcd921-2af6-4e14-80e9-bb9aeb54505c",
   "metadata": {},
   "outputs": [
    {
     "data": {
      "text/html": [
       "<div>\n",
       "<style scoped>\n",
       "    .dataframe tbody tr th:only-of-type {\n",
       "        vertical-align: middle;\n",
       "    }\n",
       "\n",
       "    .dataframe tbody tr th {\n",
       "        vertical-align: top;\n",
       "    }\n",
       "\n",
       "    .dataframe thead th {\n",
       "        text-align: right;\n",
       "    }\n",
       "</style>\n",
       "<table border=\"1\" class=\"dataframe\">\n",
       "  <thead>\n",
       "    <tr style=\"text-align: right;\">\n",
       "      <th></th>\n",
       "      <th>0</th>\n",
       "      <th>1</th>\n",
       "      <th>2</th>\n",
       "    </tr>\n",
       "  </thead>\n",
       "  <tbody>\n",
       "    <tr>\n",
       "      <th>0</th>\n",
       "      <td>0.0</td>\n",
       "      <td>0.0</td>\n",
       "      <td>1.0</td>\n",
       "    </tr>\n",
       "    <tr>\n",
       "      <th>1</th>\n",
       "      <td>0.0</td>\n",
       "      <td>1.0</td>\n",
       "      <td>0.0</td>\n",
       "    </tr>\n",
       "    <tr>\n",
       "      <th>2</th>\n",
       "      <td>1.0</td>\n",
       "      <td>0.0</td>\n",
       "      <td>0.0</td>\n",
       "    </tr>\n",
       "    <tr>\n",
       "      <th>3</th>\n",
       "      <td>0.0</td>\n",
       "      <td>1.0</td>\n",
       "      <td>0.0</td>\n",
       "    </tr>\n",
       "  </tbody>\n",
       "</table>\n",
       "</div>"
      ],
      "text/plain": [
       "     0    1    2\n",
       "0  0.0  0.0  1.0\n",
       "1  0.0  1.0  0.0\n",
       "2  1.0  0.0  0.0\n",
       "3  0.0  1.0  0.0"
      ]
     },
     "execution_count": 17,
     "metadata": {},
     "output_type": "execute_result"
    }
   ],
   "source": [
    "# One Hot Encoder\n",
    "from sklearn.preprocessing import OneHotEncoder\n",
    "one_hot_enc = OneHotEncoder(sparse_output = False)\n",
    "\n",
    "sample_data3 = pd.DataFrame(sample_data)\n",
    "\n",
    "sample_data3 = pd.DataFrame(one_hot_enc.fit_transform(sample_data3))\n",
    "sample_data3"
   ]
  },
  {
   "cell_type": "markdown",
   "id": "a3dff0a7",
   "metadata": {},
   "source": [
    "### 15. Apply both StandardScaler and MinMaxScaler on any numerical dataset and visualize the difference using boxplots. "
   ]
  },
  {
   "cell_type": "code",
   "execution_count": 29,
   "id": "6f2ce64b-a9b9-42dc-b73d-7410d5e84323",
   "metadata": {},
   "outputs": [
    {
     "data": {
      "text/html": [
       "<div>\n",
       "<style scoped>\n",
       "    .dataframe tbody tr th:only-of-type {\n",
       "        vertical-align: middle;\n",
       "    }\n",
       "\n",
       "    .dataframe tbody tr th {\n",
       "        vertical-align: top;\n",
       "    }\n",
       "\n",
       "    .dataframe thead th {\n",
       "        text-align: right;\n",
       "    }\n",
       "</style>\n",
       "<table border=\"1\" class=\"dataframe\">\n",
       "  <thead>\n",
       "    <tr style=\"text-align: right;\">\n",
       "      <th></th>\n",
       "      <th>longitude</th>\n",
       "      <th>latitude</th>\n",
       "      <th>housing_median_age</th>\n",
       "      <th>total_rooms</th>\n",
       "      <th>total_bedrooms</th>\n",
       "      <th>population</th>\n",
       "      <th>households</th>\n",
       "      <th>median_income</th>\n",
       "      <th>median_house_value</th>\n",
       "    </tr>\n",
       "  </thead>\n",
       "  <tbody>\n",
       "    <tr>\n",
       "      <th>0</th>\n",
       "      <td>-114.31</td>\n",
       "      <td>34.19</td>\n",
       "      <td>15.0</td>\n",
       "      <td>5612.0</td>\n",
       "      <td>1283.0</td>\n",
       "      <td>1015.0</td>\n",
       "      <td>472.0</td>\n",
       "      <td>1.4936</td>\n",
       "      <td>66900.0</td>\n",
       "    </tr>\n",
       "    <tr>\n",
       "      <th>1</th>\n",
       "      <td>-114.47</td>\n",
       "      <td>34.40</td>\n",
       "      <td>19.0</td>\n",
       "      <td>7650.0</td>\n",
       "      <td>1901.0</td>\n",
       "      <td>1129.0</td>\n",
       "      <td>463.0</td>\n",
       "      <td>1.8200</td>\n",
       "      <td>80100.0</td>\n",
       "    </tr>\n",
       "  </tbody>\n",
       "</table>\n",
       "</div>"
      ],
      "text/plain": [
       "   longitude  latitude  housing_median_age  total_rooms  total_bedrooms  \\\n",
       "0    -114.31     34.19                15.0       5612.0          1283.0   \n",
       "1    -114.47     34.40                19.0       7650.0          1901.0   \n",
       "\n",
       "   population  households  median_income  median_house_value  \n",
       "0      1015.0       472.0         1.4936             66900.0  \n",
       "1      1129.0       463.0         1.8200             80100.0  "
      ]
     },
     "execution_count": 29,
     "metadata": {},
     "output_type": "execute_result"
    }
   ],
   "source": [
    "data = pd.read_csv(\"california_housing_train.csv\")\n",
    "data.head(2)"
   ]
  },
  {
   "cell_type": "code",
   "execution_count": 32,
   "id": "f591f80b",
   "metadata": {},
   "outputs": [],
   "source": [
    "from sklearn.preprocessing import StandardScaler, MinMaxScaler\n",
    "\n",
    "X = data.drop(\"median_house_value\", axis =1)\n",
    "y = data[\"median_house_value\"]\n",
    "\n",
    "#Standard Scaler\n",
    "scalar_var = StandardScaler()\n",
    "X_standard_scaler = pd.DataFrame(scalar_var.fit_transform(X), columns = X.columns)\n",
    "\n",
    "\n",
    "#MinMaxscaler\n",
    "scalar_minmax = MinMaxScaler()\n",
    "X_minmax_scaler = pd.DataFrame(scalar_minmax.fit_transform(X), columns = X.columns)"
   ]
  },
  {
   "cell_type": "code",
   "execution_count": 36,
   "id": "920ca8fe-73b2-4e7a-9451-3ca6b838efc8",
   "metadata": {},
   "outputs": [
    {
     "data": {
      "image/png": "[encoded data removed]",
      "text/plain": [
       "<Figure size 300x300 with 1 Axes>"
      ]
     },
     "metadata": {},
     "output_type": "display_data"
    },
    {
     "data": {
      "image/png": "[encoded data removed]",
      "text/plain": [
       "<Figure size 300x300 with 1 Axes>"
      ]
     },
     "metadata": {},
     "output_type": "display_data"
    },
    {
     "data": {
      "image/png": "[encoded data removed]",
      "text/plain": [
       "<Figure size 300x300 with 1 Axes>"
      ]
     },
     "metadata": {},
     "output_type": "display_data"
    }
   ],
   "source": [
    "import matplotlib.pyplot as plt\n",
    "import seaborn as sns\n",
    "\n",
    "plt.figure(figsize = (3,3))\n",
    "sns.boxplot(X[\"housing_median_age\"])\n",
    "plt.show()\n",
    "plt.figure(figsize = (3,3))\n",
    "sns.boxplot(X_standard_scaler[\"housing_median_age\"])\n",
    "plt.show()\n",
    "plt.figure(figsize = (3,3))\n",
    "sns.boxplot(X_minmax_scaler[\"housing_median_age\"])\n",
    "plt.show()"
   ]
  },
  {
   "cell_type": "markdown",
   "id": "4ad4e8de",
   "metadata": {},
   "source": [
    "### 16. Create equal-width and equal-frequency bins for an “Age” column in a dataset and visualize using histograms. "
   ]
  },
  {
   "cell_type": "code",
   "execution_count": 45,
   "id": "f032d93a",
   "metadata": {},
   "outputs": [
    {
     "name": "stdout",
     "output_type": "stream",
     "text": [
      "            counts     freqs\n",
      "categories                  \n",
      "GenZ            10  0.588235\n",
      "GenY             3  0.176471\n",
      "GenX             4  0.235294\n",
      "            counts     freqs\n",
      "categories                  \n",
      "GenZ             6  0.352941\n",
      "GenY             5  0.294118\n",
      "GenX             6  0.352941\n"
     ]
    }
   ],
   "source": [
    "# Age_column=[18,22,25,30,35,40,45,50,55,60]\n",
    "Age_column=[18,22,25,30,35,40,45,50,55,60, 18, 18, 18, 18, 18, 70, 70]\n",
    "\n",
    "# Equal width\n",
    "Age_eq_width= pd.cut(Age_column, bins = 3, labels = [\"GenZ\", \"GenY\", \"GenX\"])\n",
    "print(Age_eq_width.describe())\n",
    "\n",
    "# Equal Frequency\n",
    "Age_eq_freq= pd.qcut(Age_column, q = 3, labels = [\"GenZ\", \"GenY\", \"GenX\"])\n",
    "print(Age_eq_freq.describe())"
   ]
  },
  {
   "cell_type": "code",
   "execution_count": 48,
   "id": "3b8d4f78-3804-4401-b93f-04fa0a2b8aa8",
   "metadata": {},
   "outputs": [
    {
     "data": {
      "image/png": "[encoded data removed]",
      "text/plain": [
       "<Figure size 300x200 with 1 Axes>"
      ]
     },
     "metadata": {},
     "output_type": "display_data"
    },
    {
     "data": {
      "text/plain": [
       "<Axes: ylabel='Count'>"
      ]
     },
     "execution_count": 48,
     "metadata": {},
     "output_type": "execute_result"
    },
    {
     "data": {
      "image/png": "[encoded data removed]",
      "text/plain": [
       "<Figure size 300x200 with 1 Axes>"
      ]
     },
     "metadata": {},
     "output_type": "display_data"
    }
   ],
   "source": [
    "plt.figure(figsize= (3,2))\n",
    "sns.histplot(Age_eq_width)\n",
    "plt.show()\n",
    "plt.figure(figsize= (3,2))\n",
    "sns.histplot(Age_eq_freq)"
   ]
  },
  {
   "cell_type": "markdown",
   "id": "68d0a7a2",
   "metadata": {},
   "source": [
    "### 17. Create custom bins for a “Salary” column — for example: Low (<30K), Medium (30K–70K), High (>70K) — and encode them using OrdinalEncoder. "
   ]
  },
  {
   "cell_type": "code",
   "execution_count": 49,
   "id": "8aaa8481-9901-4086-a36f-b8310da89c9f",
   "metadata": {},
   "outputs": [
    {
     "data": {
      "text/html": [
       "<div>\n",
       "<style scoped>\n",
       "    .dataframe tbody tr th:only-of-type {\n",
       "        vertical-align: middle;\n",
       "    }\n",
       "\n",
       "    .dataframe tbody tr th {\n",
       "        vertical-align: top;\n",
       "    }\n",
       "\n",
       "    .dataframe thead th {\n",
       "        text-align: right;\n",
       "    }\n",
       "</style>\n",
       "<table border=\"1\" class=\"dataframe\">\n",
       "  <thead>\n",
       "    <tr style=\"text-align: right;\">\n",
       "      <th></th>\n",
       "      <th>Employee</th>\n",
       "      <th>Salary</th>\n",
       "    </tr>\n",
       "  </thead>\n",
       "  <tbody>\n",
       "    <tr>\n",
       "      <th>0</th>\n",
       "      <td>Emp-1</td>\n",
       "      <td>10000</td>\n",
       "    </tr>\n",
       "    <tr>\n",
       "      <th>1</th>\n",
       "      <td>Emp-2</td>\n",
       "      <td>20000</td>\n",
       "    </tr>\n",
       "    <tr>\n",
       "      <th>2</th>\n",
       "      <td>Emp-3</td>\n",
       "      <td>35000</td>\n",
       "    </tr>\n",
       "    <tr>\n",
       "      <th>3</th>\n",
       "      <td>Emp-4</td>\n",
       "      <td>45000</td>\n",
       "    </tr>\n",
       "    <tr>\n",
       "      <th>4</th>\n",
       "      <td>Emp-5</td>\n",
       "      <td>50000</td>\n",
       "    </tr>\n",
       "    <tr>\n",
       "      <th>5</th>\n",
       "      <td>Emp-6</td>\n",
       "      <td>56000</td>\n",
       "    </tr>\n",
       "    <tr>\n",
       "      <th>6</th>\n",
       "      <td>Emp-7</td>\n",
       "      <td>67000</td>\n",
       "    </tr>\n",
       "    <tr>\n",
       "      <th>7</th>\n",
       "      <td>Emp-8</td>\n",
       "      <td>76000</td>\n",
       "    </tr>\n",
       "  </tbody>\n",
       "</table>\n",
       "</div>"
      ],
      "text/plain": [
       "  Employee  Salary\n",
       "0    Emp-1   10000\n",
       "1    Emp-2   20000\n",
       "2    Emp-3   35000\n",
       "3    Emp-4   45000\n",
       "4    Emp-5   50000\n",
       "5    Emp-6   56000\n",
       "6    Emp-7   67000\n",
       "7    Emp-8   76000"
      ]
     },
     "execution_count": 49,
     "metadata": {},
     "output_type": "execute_result"
    }
   ],
   "source": [
    "emp_salary= {\"Employee\":[\"Emp-1\", \"Emp-2\", \"Emp-3\", \"Emp-4\", \"Emp-5\", \"Emp-6\", \"Emp-7\", \"Emp-8\"], \"Salary\":[10000, 20000, 35000, 45000, 50000, 56000, 67000, 76000]}\n",
    "emp_salary = pd.DataFrame(emp_salary)\n",
    "emp_salary"
   ]
  },
  {
   "cell_type": "code",
   "execution_count": 52,
   "id": "fe9dc50a-1400-4429-9421-091b26d6fed7",
   "metadata": {},
   "outputs": [
    {
     "name": "stdout",
     "output_type": "stream",
     "text": [
      "Employee  Salary  salary_custom_bins\n",
      "Emp-1     10000   Low                   1\n",
      "Emp-2     20000   Low                   1\n",
      "Emp-3     35000   Medium                1\n",
      "Emp-4     45000   Medium                1\n",
      "Emp-5     50000   Medium                1\n",
      "Emp-6     56000   Medium                1\n",
      "Emp-7     67000   Medium                1\n",
      "Emp-8     76000   High                  1\n",
      "Name: count, dtype: int64\n"
     ]
    }
   ],
   "source": [
    "# Custome bins\n",
    "bins = [0, 30000, 70000, 100000]\n",
    "emp_salary[\"salary_custom_bins\"]= pd.cut(emp_salary[\"Salary\"], bins = bins, labels = [\"Low\", \"Medium\", \"High\"])\n",
    "print(emp_salary.value_counts())"
   ]
  },
  {
   "cell_type": "code",
   "execution_count": 54,
   "id": "5e527cfe-696b-4b74-a7e7-100c8c751aa6",
   "metadata": {},
   "outputs": [
    {
     "data": {
      "text/plain": [
       "0       Low\n",
       "1       Low\n",
       "2    Medium\n",
       "3    Medium\n",
       "4    Medium\n",
       "5    Medium\n",
       "6    Medium\n",
       "7      High\n",
       "Name: salary_custom_bins, dtype: category\n",
       "Categories (3, object): ['Low' < 'Medium' < 'High']"
      ]
     },
     "execution_count": 54,
     "metadata": {},
     "output_type": "execute_result"
    }
   ],
   "source": [
    "emp_salary[\"salary_custom_bins\"]"
   ]
  },
  {
   "cell_type": "code",
   "execution_count": 55,
   "id": "4831d0e1-2a90-4268-b828-1746704f87b2",
   "metadata": {},
   "outputs": [
    {
     "data": {
      "text/html": [
       "<div>\n",
       "<style scoped>\n",
       "    .dataframe tbody tr th:only-of-type {\n",
       "        vertical-align: middle;\n",
       "    }\n",
       "\n",
       "    .dataframe tbody tr th {\n",
       "        vertical-align: top;\n",
       "    }\n",
       "\n",
       "    .dataframe thead th {\n",
       "        text-align: right;\n",
       "    }\n",
       "</style>\n",
       "<table border=\"1\" class=\"dataframe\">\n",
       "  <thead>\n",
       "    <tr style=\"text-align: right;\">\n",
       "      <th></th>\n",
       "      <th>Employee</th>\n",
       "      <th>Salary</th>\n",
       "      <th>salary_custom_bins</th>\n",
       "    </tr>\n",
       "  </thead>\n",
       "  <tbody>\n",
       "    <tr>\n",
       "      <th>0</th>\n",
       "      <td>Emp-1</td>\n",
       "      <td>10000</td>\n",
       "      <td>Low</td>\n",
       "    </tr>\n",
       "    <tr>\n",
       "      <th>1</th>\n",
       "      <td>Emp-2</td>\n",
       "      <td>20000</td>\n",
       "      <td>Low</td>\n",
       "    </tr>\n",
       "    <tr>\n",
       "      <th>2</th>\n",
       "      <td>Emp-3</td>\n",
       "      <td>35000</td>\n",
       "      <td>Medium</td>\n",
       "    </tr>\n",
       "    <tr>\n",
       "      <th>3</th>\n",
       "      <td>Emp-4</td>\n",
       "      <td>45000</td>\n",
       "      <td>Medium</td>\n",
       "    </tr>\n",
       "    <tr>\n",
       "      <th>4</th>\n",
       "      <td>Emp-5</td>\n",
       "      <td>50000</td>\n",
       "      <td>Medium</td>\n",
       "    </tr>\n",
       "    <tr>\n",
       "      <th>5</th>\n",
       "      <td>Emp-6</td>\n",
       "      <td>56000</td>\n",
       "      <td>Medium</td>\n",
       "    </tr>\n",
       "    <tr>\n",
       "      <th>6</th>\n",
       "      <td>Emp-7</td>\n",
       "      <td>67000</td>\n",
       "      <td>Medium</td>\n",
       "    </tr>\n",
       "    <tr>\n",
       "      <th>7</th>\n",
       "      <td>Emp-8</td>\n",
       "      <td>76000</td>\n",
       "      <td>High</td>\n",
       "    </tr>\n",
       "  </tbody>\n",
       "</table>\n",
       "</div>"
      ],
      "text/plain": [
       "  Employee  Salary salary_custom_bins\n",
       "0    Emp-1   10000                Low\n",
       "1    Emp-2   20000                Low\n",
       "2    Emp-3   35000             Medium\n",
       "3    Emp-4   45000             Medium\n",
       "4    Emp-5   50000             Medium\n",
       "5    Emp-6   56000             Medium\n",
       "6    Emp-7   67000             Medium\n",
       "7    Emp-8   76000               High"
      ]
     },
     "execution_count": 55,
     "metadata": {},
     "output_type": "execute_result"
    }
   ],
   "source": [
    "emp_salary"
   ]
  },
  {
   "cell_type": "code",
   "execution_count": 60,
   "id": "d4df87ea-08ee-499b-8db0-991853d25f01",
   "metadata": {},
   "outputs": [
    {
     "name": "stdout",
     "output_type": "stream",
     "text": [
      "Employee  Salary  salary_custom_bins  encoded_salary_bin\n",
      "Emp-1     10000   Low                 1.0                   1\n",
      "Emp-2     20000   Low                 1.0                   1\n",
      "Emp-3     35000   Medium              2.0                   1\n",
      "Emp-4     45000   Medium              2.0                   1\n",
      "Emp-5     50000   Medium              2.0                   1\n",
      "Emp-6     56000   Medium              2.0                   1\n",
      "Emp-7     67000   Medium              2.0                   1\n",
      "Emp-8     76000   High                0.0                   1\n",
      "Name: count, dtype: int64\n"
     ]
    }
   ],
   "source": [
    "# OrdinalEncoder\n",
    "ord_enc = OrdinalEncoder()\n",
    "emp_salary[\"encoded_salary_bin\"] = ord_enc.fit_transform(emp_salary[[\"salary_custom_bins\"]])\n",
    "print(emp_salary.value_counts())"
   ]
  },
  {
   "cell_type": "code",
   "execution_count": null,
   "id": "88584ca3-7746-4386-82d1-2e6eb6ff61b2",
   "metadata": {},
   "outputs": [],
   "source": []
  }
 ],
 "metadata": {
  "kernelspec": {
   "display_name": "Python [conda env:base] *",
   "language": "python",
   "name": "conda-base-py"
  },
  "language_info": {
   "codemirror_mode": {
    "name": "ipython",
    "version": 3
   },
   "file_extension": ".py",
   "mimetype": "text/x-python",
   "name": "python",
   "nbconvert_exporter": "python",
   "pygments_lexer": "ipython3",
   "version": "3.13.5"
  }
 },
 "nbformat": 4,
 "nbformat_minor": 5
}
