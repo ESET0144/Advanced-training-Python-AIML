{
 "cells": [
  {
   "cell_type": "markdown",
   "id": "1eb0a24f-bcd7-43a4-8855-80ad6029a555",
   "metadata": {},
   "source": [
    "# Python Basics"
   ]
  },
  {
   "cell_type": "markdown",
   "id": "78ebefe2-72b7-4f18-80d8-5983f3e6b8c0",
   "metadata": {},
   "source": [
    "## Variables"
   ]
  },
  {
   "cell_type": "code",
   "execution_count": 1,
   "id": "911b49b3-16fd-496a-8e94-ee0af89d105d",
   "metadata": {},
   "outputs": [],
   "source": [
    "x = 10"
   ]
  },
  {
   "cell_type": "code",
   "execution_count": 2,
   "id": "34c83d04-9d85-4b66-9568-bf06bf32756b",
   "metadata": {},
   "outputs": [
    {
     "name": "stdout",
     "output_type": "stream",
     "text": [
      "10\n"
     ]
    }
   ],
   "source": [
    "print(x)"
   ]
  },
  {
   "cell_type": "code",
   "execution_count": 3,
   "id": "12496651-2796-41af-9909-c7b9a3e418bc",
   "metadata": {},
   "outputs": [
    {
     "data": {
      "text/plain": [
       "int"
      ]
     },
     "execution_count": 3,
     "metadata": {},
     "output_type": "execute_result"
    }
   ],
   "source": [
    "type(x)"
   ]
  },
  {
   "cell_type": "code",
   "execution_count": 4,
   "id": "6cb6c407-7942-43b2-b16c-f4e6138ce89f",
   "metadata": {},
   "outputs": [],
   "source": [
    "x= \"abc\""
   ]
  },
  {
   "cell_type": "code",
   "execution_count": 5,
   "id": "8ff16746-1a32-4167-b992-46661f2a3c2f",
   "metadata": {},
   "outputs": [
    {
     "data": {
      "text/plain": [
       "str"
      ]
     },
     "execution_count": 5,
     "metadata": {},
     "output_type": "execute_result"
    }
   ],
   "source": [
    "type(x)"
   ]
  },
  {
   "cell_type": "code",
   "execution_count": 6,
   "id": "6c231e23-1c59-4f34-a067-3884a20e40c8",
   "metadata": {},
   "outputs": [],
   "source": [
    "x= 10.4"
   ]
  },
  {
   "cell_type": "code",
   "execution_count": 7,
   "id": "7825a56f-3cf0-417d-8e2b-446277c749d5",
   "metadata": {},
   "outputs": [
    {
     "data": {
      "text/plain": [
       "float"
      ]
     },
     "execution_count": 7,
     "metadata": {},
     "output_type": "execute_result"
    }
   ],
   "source": [
    "type(x)"
   ]
  },
  {
   "cell_type": "markdown",
   "id": "32ea424c-ace8-49af-ae63-9202cd8c5515",
   "metadata": {},
   "source": [
    "## Numbers"
   ]
  },
  {
   "cell_type": "code",
   "execution_count": 8,
   "id": "a8d4eb45-b3fb-41b4-a5d3-abd98954dd73",
   "metadata": {},
   "outputs": [],
   "source": [
    "n=10"
   ]
  },
  {
   "cell_type": "code",
   "execution_count": 9,
   "id": "788d1aeb-5b1f-4ecc-aa67-614f66a7274f",
   "metadata": {},
   "outputs": [
    {
     "name": "stdout",
     "output_type": "stream",
     "text": [
      "10 <class 'int'>\n"
     ]
    }
   ],
   "source": [
    "print(n, type(n))"
   ]
  },
  {
   "cell_type": "code",
   "execution_count": 11,
   "id": "23d6bfe3-852d-4f45-9105-2dd604ad7ee9",
   "metadata": {},
   "outputs": [
    {
     "name": "stdout",
     "output_type": "stream",
     "text": [
      "20\n"
     ]
    }
   ],
   "source": [
    "print(n+10)"
   ]
  },
  {
   "cell_type": "code",
   "execution_count": 12,
   "id": "507b89e2-a664-434a-a6e8-0f7b8d9a311a",
   "metadata": {},
   "outputs": [
    {
     "name": "stdout",
     "output_type": "stream",
     "text": [
      "10000000000\n"
     ]
    }
   ],
   "source": [
    "print(n**n)"
   ]
  },
  {
   "cell_type": "code",
   "execution_count": 13,
   "id": "80d105bd-95e0-4a2e-b44e-c1167766d0a5",
   "metadata": {},
   "outputs": [
    {
     "name": "stdout",
     "output_type": "stream",
     "text": [
      "0\n"
     ]
    }
   ],
   "source": [
    "print(n^n)"
   ]
  },
  {
   "cell_type": "code",
   "execution_count": 14,
   "id": "a9199edc-3ff0-4fbf-8e61-0345b33dbd9e",
   "metadata": {},
   "outputs": [],
   "source": [
    "m=10.4"
   ]
  },
  {
   "cell_type": "code",
   "execution_count": 15,
   "id": "4dc6cb28-819c-4d6c-9498-38a588cacbbd",
   "metadata": {},
   "outputs": [
    {
     "name": "stdout",
     "output_type": "stream",
     "text": [
      "10.4 <class 'float'>\n"
     ]
    }
   ],
   "source": [
    "print(m, type(m))"
   ]
  },
  {
   "cell_type": "code",
   "execution_count": 16,
   "id": "f51bf227-f650-4ab7-9cd4-0c3b24311cb8",
   "metadata": {},
   "outputs": [
    {
     "name": "stdout",
     "output_type": "stream",
     "text": [
      "15.4\n"
     ]
    }
   ],
   "source": [
    "print(m+5)"
   ]
  },
  {
   "cell_type": "code",
   "execution_count": 17,
   "id": "7caca619-4b5e-4150-9cb3-ad0c1273762e",
   "metadata": {},
   "outputs": [
    {
     "name": "stdout",
     "output_type": "stream",
     "text": [
      "37769977725.5806\n"
     ]
    }
   ],
   "source": [
    "print(m**m)"
   ]
  },
  {
   "cell_type": "markdown",
   "id": "c5dcebab-28f5-4735-a964-b971392351b9",
   "metadata": {},
   "source": [
    "## Boolean\n",
    "\n",
    "(&& == AND , || == OR) other programming languages\n",
    "Python uses english phrases like AND, NOT OR as bollean operators"
   ]
  },
  {
   "cell_type": "code",
   "execution_count": 20,
   "id": "c36a1c29-95ea-41f7-90d8-b11d7c90d996",
   "metadata": {},
   "outputs": [],
   "source": [
    "t, f = True, False"
   ]
  },
  {
   "cell_type": "code",
   "execution_count": 21,
   "id": "4b845c99-37b7-48cf-bff3-094c4f72388d",
   "metadata": {},
   "outputs": [
    {
     "name": "stdout",
     "output_type": "stream",
     "text": [
      "True <class 'bool'>\n"
     ]
    }
   ],
   "source": [
    "print(t, type(t))"
   ]
  },
  {
   "cell_type": "code",
   "execution_count": 22,
   "id": "a69679bd-3589-4e0c-86d4-757a5bed5210",
   "metadata": {},
   "outputs": [
    {
     "name": "stdout",
     "output_type": "stream",
     "text": [
      "False\n"
     ]
    }
   ],
   "source": [
    "print(t and f)"
   ]
  },
  {
   "cell_type": "code",
   "execution_count": 23,
   "id": "5d0cf6a1-76f9-4b08-8de9-7a961242ed8b",
   "metadata": {},
   "outputs": [
    {
     "name": "stdout",
     "output_type": "stream",
     "text": [
      "True\n"
     ]
    }
   ],
   "source": [
    "print(t or f)"
   ]
  },
  {
   "cell_type": "code",
   "execution_count": 24,
   "id": "6ed3653c-bafc-41c2-8831-b3a721c52902",
   "metadata": {},
   "outputs": [
    {
     "name": "stdout",
     "output_type": "stream",
     "text": [
      "False\n"
     ]
    }
   ],
   "source": [
    "print(not t)"
   ]
  },
  {
   "cell_type": "code",
   "execution_count": 25,
   "id": "1a87efbe-513e-4acb-8142-a6947c9162c7",
   "metadata": {},
   "outputs": [
    {
     "name": "stdout",
     "output_type": "stream",
     "text": [
      "True\n"
     ]
    }
   ],
   "source": [
    "print(not f)"
   ]
  },
  {
   "cell_type": "code",
   "execution_count": 27,
   "id": "792e11b4-83b3-4cf7-b65c-89d713eb00fd",
   "metadata": {},
   "outputs": [
    {
     "name": "stdout",
     "output_type": "stream",
     "text": [
      "True\n"
     ]
    }
   ],
   "source": [
    "print(t != f) ##XOR"
   ]
  },
  {
   "cell_type": "markdown",
   "id": "0cf30832-d8ee-49ae-9f5b-07a9ad09e760",
   "metadata": {},
   "source": [
    "## Formatting"
   ]
  },
  {
   "cell_type": "code",
   "execution_count": 28,
   "id": "4810fda3-3672-4403-983a-237d60f6c95b",
   "metadata": {},
   "outputs": [],
   "source": [
    "h = \"Hello\"\n",
    "w = \"World\""
   ]
  },
  {
   "cell_type": "code",
   "execution_count": 29,
   "id": "fab048ae-68f6-4406-99ef-8d6557264a77",
   "metadata": {},
   "outputs": [
    {
     "name": "stdout",
     "output_type": "stream",
     "text": [
      "Hello World\n"
     ]
    }
   ],
   "source": [
    "print(h, w)"
   ]
  },
  {
   "cell_type": "code",
   "execution_count": 31,
   "id": "5d07221d-4f32-4575-8e43-0434251e5988",
   "metadata": {},
   "outputs": [
    {
     "name": "stdout",
     "output_type": "stream",
     "text": [
      "Hello , World\n"
     ]
    }
   ],
   "source": [
    "print(h,\",\", w)"
   ]
  },
  {
   "cell_type": "code",
   "execution_count": 33,
   "id": "86e4a268-3e40-4473-a036-adda47722729",
   "metadata": {},
   "outputs": [
    {
     "name": "stdout",
     "output_type": "stream",
     "text": [
      "Hello, World\n"
     ]
    }
   ],
   "source": [
    "print(f\"{h}, {w}\")"
   ]
  },
  {
   "cell_type": "markdown",
   "id": "ed6f2622-6c3b-4385-8d08-4f33fa5f0dae",
   "metadata": {},
   "source": [
    "f = \"{}{} {}\".format(h,\",\",w)"
   ]
  },
  {
   "cell_type": "code",
   "execution_count": 37,
   "id": "3afb2680-176b-480c-aec9-07f3dec1b6e8",
   "metadata": {},
   "outputs": [
    {
     "name": "stdout",
     "output_type": "stream",
     "text": [
      "Hello, World\n"
     ]
    }
   ],
   "source": [
    "print(f)"
   ]
  },
  {
   "cell_type": "code",
   "execution_count": 38,
   "id": "d88a2d81-21dd-4493-af89-c22abce210b8",
   "metadata": {},
   "outputs": [],
   "source": [
    "s = \"hello\""
   ]
  },
  {
   "cell_type": "code",
   "execution_count": 39,
   "id": "322263e2-86b7-42cb-8825-9535221fa8a0",
   "metadata": {},
   "outputs": [
    {
     "name": "stdout",
     "output_type": "stream",
     "text": [
      "HELLO\n"
     ]
    }
   ],
   "source": [
    "print(s.upper())"
   ]
  },
  {
   "cell_type": "code",
   "execution_count": 40,
   "id": "791ee33a-1098-416a-8406-8325aa3ad7cb",
   "metadata": {},
   "outputs": [
    {
     "name": "stdout",
     "output_type": "stream",
     "text": [
      "Hello\n"
     ]
    }
   ],
   "source": [
    "print(s.capitalize())"
   ]
  },
  {
   "cell_type": "code",
   "execution_count": 42,
   "id": "66820feb-ea2f-4b43-bf60-d556bd364eb7",
   "metadata": {},
   "outputs": [
    {
     "name": "stdout",
     "output_type": "stream",
     "text": [
      "                                                                 hello\n"
     ]
    }
   ],
   "source": [
    "print(s.rjust(70))"
   ]
  },
  {
   "cell_type": "code",
   "execution_count": 45,
   "id": "068a992b-0395-4651-bcfc-47adf492cca0",
   "metadata": {},
   "outputs": [
    {
     "name": "stdout",
     "output_type": "stream",
     "text": [
      "                                                                   hello                                                                    \n"
     ]
    }
   ],
   "source": [
    "print(s.center(140))"
   ]
  },
  {
   "cell_type": "code",
   "execution_count": 48,
   "id": "dd0726e7-18ba-43b8-8f0f-e36dfea9bb02",
   "metadata": {},
   "outputs": [
    {
     "name": "stdout",
     "output_type": "stream",
     "text": [
      "heddddddddo\n"
     ]
    }
   ],
   "source": [
    "print(s.replace(\"l\", \"dddd\"))"
   ]
  },
  {
   "cell_type": "code",
   "execution_count": 55,
   "id": "f4caec55-0347-46eb-b75e-dfa4b186d193",
   "metadata": {},
   "outputs": [
    {
     "name": "stdout",
     "output_type": "stream",
     "text": [
      "world\n"
     ]
    }
   ],
   "source": [
    "print(\"    world     \".strip())"
   ]
  },
  {
   "cell_type": "markdown",
   "id": "3680337a-61a4-4525-bc25-d16e22617114",
   "metadata": {},
   "source": [
    "# Containers"
   ]
  },
  {
   "cell_type": "markdown",
   "id": "86fd1cb0-d930-45f8-a101-2a75e59ef7fd",
   "metadata": {},
   "source": [
    "## List"
   ]
  },
  {
   "cell_type": "code",
   "execution_count": 57,
   "id": "f66c4fab-2a86-46ec-afe0-7afa1dd23ba1",
   "metadata": {},
   "outputs": [],
   "source": [
    "x = [3, 2, 4]"
   ]
  },
  {
   "cell_type": "code",
   "execution_count": 58,
   "id": "ae1aac29-3d55-4f02-a3b3-86569d3bffd4",
   "metadata": {},
   "outputs": [
    {
     "data": {
      "text/plain": [
       "[3, 2, 4]"
      ]
     },
     "execution_count": 58,
     "metadata": {},
     "output_type": "execute_result"
    }
   ],
   "source": [
    "x"
   ]
  },
  {
   "cell_type": "code",
   "execution_count": 59,
   "id": "0f5c28cb-8779-44f2-91eb-e4d8a7663a64",
   "metadata": {},
   "outputs": [
    {
     "data": {
      "text/plain": [
       "list"
      ]
     },
     "execution_count": 59,
     "metadata": {},
     "output_type": "execute_result"
    }
   ],
   "source": [
    "type(x)"
   ]
  },
  {
   "cell_type": "code",
   "execution_count": 60,
   "id": "c4736ff1-41a2-42b8-b152-a7b510c18828",
   "metadata": {},
   "outputs": [
    {
     "name": "stdout",
     "output_type": "stream",
     "text": [
      "2\n"
     ]
    }
   ],
   "source": [
    "print(x[1])"
   ]
  },
  {
   "cell_type": "code",
   "execution_count": 61,
   "id": "30616503-c830-4215-94db-606b0756b2ff",
   "metadata": {},
   "outputs": [
    {
     "name": "stdout",
     "output_type": "stream",
     "text": [
      "2\n"
     ]
    }
   ],
   "source": [
    "print(x[-2])"
   ]
  },
  {
   "cell_type": "code",
   "execution_count": 63,
   "id": "9743c615-9941-4aa0-9366-dc270ebaeaea",
   "metadata": {},
   "outputs": [
    {
     "name": "stdout",
     "output_type": "stream",
     "text": [
      "2\n"
     ]
    }
   ],
   "source": [
    "print(x[int(len(x)/2)])"
   ]
  },
  {
   "cell_type": "code",
   "execution_count": 64,
   "id": "07e91148-2d8b-444d-8292-5c89857c4def",
   "metadata": {},
   "outputs": [],
   "source": [
    "x[1] = \"Two\""
   ]
  },
  {
   "cell_type": "code",
   "execution_count": 65,
   "id": "cb10e162-a502-4367-a6c1-2ebf1e13a032",
   "metadata": {},
   "outputs": [
    {
     "name": "stdout",
     "output_type": "stream",
     "text": [
      "[3, 'Two', 4]\n"
     ]
    }
   ],
   "source": [
    "print(x)"
   ]
  },
  {
   "cell_type": "code",
   "execution_count": 66,
   "id": "867075e7-836e-4c10-9380-95a0261efec3",
   "metadata": {},
   "outputs": [],
   "source": [
    "x.append(\"Three\")"
   ]
  },
  {
   "cell_type": "code",
   "execution_count": 67,
   "id": "55fbaae6-363f-4359-b3c2-841e6f7b8398",
   "metadata": {},
   "outputs": [
    {
     "name": "stdout",
     "output_type": "stream",
     "text": [
      "[3, 'Two', 4, 'Three']\n"
     ]
    }
   ],
   "source": [
    "print(x)"
   ]
  },
  {
   "cell_type": "code",
   "execution_count": 68,
   "id": "16413ddb-88a9-44db-9ad8-6a2145a9556e",
   "metadata": {},
   "outputs": [
    {
     "data": {
      "text/plain": [
       "'Three'"
      ]
     },
     "execution_count": 68,
     "metadata": {},
     "output_type": "execute_result"
    }
   ],
   "source": [
    "x.pop()"
   ]
  },
  {
   "cell_type": "code",
   "execution_count": 69,
   "id": "2a8ecc08-3f04-487e-aa1b-6aa5670aeccf",
   "metadata": {},
   "outputs": [],
   "source": [
    "x.remove(3)"
   ]
  },
  {
   "cell_type": "code",
   "execution_count": 70,
   "id": "2bd9c703-a14d-4052-9302-af3ec2897ff0",
   "metadata": {},
   "outputs": [
    {
     "name": "stdout",
     "output_type": "stream",
     "text": [
      "['Two', 4]\n"
     ]
    }
   ],
   "source": [
    "print(x)"
   ]
  },
  {
   "cell_type": "code",
   "execution_count": 71,
   "id": "3e2112c6-9bdf-4cd7-88ac-9a5a977f4f35",
   "metadata": {},
   "outputs": [
    {
     "data": {
      "text/plain": [
       "4"
      ]
     },
     "execution_count": 71,
     "metadata": {},
     "output_type": "execute_result"
    }
   ],
   "source": [
    "x.pop(1)"
   ]
  },
  {
   "cell_type": "code",
   "execution_count": 72,
   "id": "aed07c3f-eeeb-4204-af94-cb8f4ba245c1",
   "metadata": {},
   "outputs": [],
   "source": [
    "x = [3, 2, 4]"
   ]
  },
  {
   "cell_type": "code",
   "execution_count": 73,
   "id": "6ba7b1ee-7082-4f53-9e28-86290590411d",
   "metadata": {},
   "outputs": [
    {
     "data": {
      "text/plain": [
       "3"
      ]
     },
     "execution_count": 73,
     "metadata": {},
     "output_type": "execute_result"
    }
   ],
   "source": [
    "x.pop(0)"
   ]
  },
  {
   "cell_type": "markdown",
   "id": "b4a77060-3854-4657-8a1b-93157cebd981",
   "metadata": {},
   "source": [
    "### List- Slicing"
   ]
  },
  {
   "cell_type": "code",
   "execution_count": 74,
   "id": "30e42687-6596-41c6-a5c4-7cea46d3c1f8",
   "metadata": {},
   "outputs": [],
   "source": [
    "nums= list(range(5))"
   ]
  },
  {
   "cell_type": "code",
   "execution_count": 75,
   "id": "33a1172a-b3b7-40f7-b7c6-31e52da2e54c",
   "metadata": {},
   "outputs": [
    {
     "data": {
      "text/plain": [
       "[0, 1, 2, 3, 4]"
      ]
     },
     "execution_count": 75,
     "metadata": {},
     "output_type": "execute_result"
    }
   ],
   "source": [
    "nums"
   ]
  },
  {
   "cell_type": "code",
   "execution_count": 76,
   "id": "d19dfdc8-68fe-4cd1-ae16-8d4665438694",
   "metadata": {},
   "outputs": [
    {
     "name": "stdout",
     "output_type": "stream",
     "text": [
      "[2, 3]\n"
     ]
    }
   ],
   "source": [
    "print(nums[2:4])"
   ]
  },
  {
   "cell_type": "code",
   "execution_count": 80,
   "id": "8a9a1536-4c20-4bc5-8a95-6cfd60f74d96",
   "metadata": {},
   "outputs": [
    {
     "name": "stdout",
     "output_type": "stream",
     "text": [
      "[2, 3, 4]\n",
      "[0, 1, 2, 3]\n",
      "[0, 1, 2, 3, 4]\n",
      "[]\n"
     ]
    }
   ],
   "source": [
    "print(nums[2:])\n",
    "print(nums[:4])\n",
    "print(nums[:])\n",
    "print(nums[-1:3])"
   ]
  },
  {
   "cell_type": "code",
   "execution_count": 81,
   "id": "c16055d0-d949-4305-ba9c-32d473f58e76",
   "metadata": {},
   "outputs": [],
   "source": [
    "nums[2:4] = [8,0]"
   ]
  },
  {
   "cell_type": "code",
   "execution_count": 89,
   "id": "ef0a7947-1800-4d22-ba98-0d2849615f1b",
   "metadata": {},
   "outputs": [],
   "source": [
    "du = [1,2, 2, 4, 2, 3, 3, 3]"
   ]
  },
  {
   "cell_type": "code",
   "execution_count": 85,
   "id": "4fd7d01a-37ee-47cd-b601-2c2d96532710",
   "metadata": {},
   "outputs": [
    {
     "data": {
      "text/plain": [
       "{2}"
      ]
     },
     "execution_count": 85,
     "metadata": {},
     "output_type": "execute_result"
    }
   ],
   "source": [
    "set([x for x in du if du.count(x) > 1])"
   ]
  },
  {
   "cell_type": "code",
   "execution_count": 90,
   "id": "540183b7-07ec-4614-969c-e9016cdd4d28",
   "metadata": {},
   "outputs": [],
   "source": [
    "unique_list = list(dict.fromkeys(du))"
   ]
  },
  {
   "cell_type": "code",
   "execution_count": 91,
   "id": "faf86639-a427-4229-bbe1-863a81a09545",
   "metadata": {},
   "outputs": [
    {
     "data": {
      "text/plain": [
       "[1, 2, 4, 3]"
      ]
     },
     "execution_count": 91,
     "metadata": {},
     "output_type": "execute_result"
    }
   ],
   "source": [
    "unique_list"
   ]
  },
  {
   "cell_type": "code",
   "execution_count": 92,
   "id": "970ee852-7c83-49e9-a29e-86bb6f852cab",
   "metadata": {},
   "outputs": [],
   "source": [
    "animals = [\"dog\", \"cat\", \"rhino\", \"gorrila\"]"
   ]
  },
  {
   "cell_type": "code",
   "execution_count": 94,
   "id": "5dc978ee-4457-4b24-9720-82701648b970",
   "metadata": {},
   "outputs": [
    {
     "name": "stdout",
     "output_type": "stream",
     "text": [
      "1: dog\n",
      "2: cat\n",
      "3: rhino\n",
      "4: gorrila\n"
     ]
    }
   ],
   "source": [
    "for idx, a in enumerate(animals):\n",
    "    print(\"{}: {}\".format(idx+1, a))\n",
    "    "
   ]
  },
  {
   "cell_type": "markdown",
   "id": "082b218b-995a-4683-895c-f1773c9e2a4a",
   "metadata": {},
   "source": [
    "### List- Comprehension"
   ]
  },
  {
   "cell_type": "code",
   "execution_count": 96,
   "id": "1165b0bd-c28d-4128-9f61-676500646c2f",
   "metadata": {},
   "outputs": [],
   "source": [
    "list1 = list(range(5))"
   ]
  },
  {
   "cell_type": "code",
   "execution_count": 97,
   "id": "74c8c1cb-61bc-4668-87a1-35200b248ee1",
   "metadata": {},
   "outputs": [
    {
     "data": {
      "text/plain": [
       "[0, 1, 2, 3, 4]"
      ]
     },
     "execution_count": 97,
     "metadata": {},
     "output_type": "execute_result"
    }
   ],
   "source": [
    "list1"
   ]
  },
  {
   "cell_type": "code",
   "execution_count": 98,
   "id": "c082fd7f-255e-44b3-b317-763d13a87ef4",
   "metadata": {},
   "outputs": [
    {
     "data": {
      "text/plain": [
       "[0, 1, 4, 9, 16]"
      ]
     },
     "execution_count": 98,
     "metadata": {},
     "output_type": "execute_result"
    }
   ],
   "source": [
    "list2 = []\n",
    "\n",
    "for e in list1:\n",
    "    list2.append(e**2)\n",
    "\n",
    "list2"
   ]
  },
  {
   "cell_type": "code",
   "execution_count": 102,
   "id": "1dafd451-40dc-4825-84c8-2723ebe8cbf5",
   "metadata": {},
   "outputs": [],
   "source": [
    "a_list = list(range(10))"
   ]
  },
  {
   "cell_type": "code",
   "execution_count": 103,
   "id": "761dea35-5fd0-4b02-bf98-e38951eb352c",
   "metadata": {},
   "outputs": [
    {
     "data": {
      "text/plain": [
       "[0, 1, 2, 3, 4, 5, 6, 7, 8, 9]"
      ]
     },
     "execution_count": 103,
     "metadata": {},
     "output_type": "execute_result"
    }
   ],
   "source": [
    "a_list"
   ]
  },
  {
   "cell_type": "code",
   "execution_count": 104,
   "id": "2db360ec-e5ef-4205-99ec-f7e067c3d92c",
   "metadata": {},
   "outputs": [
    {
     "data": {
      "text/plain": [
       "[0, 2, 4, 6, 8]"
      ]
     },
     "execution_count": 104,
     "metadata": {},
     "output_type": "execute_result"
    }
   ],
   "source": [
    "## multi line code\n",
    "even_list = []\n",
    "\n",
    "for e in a_list:\n",
    "    if e%2 == 0:\n",
    "        even_list.append(e)\n",
    "\n",
    "even_list\n",
    "        \n",
    "    "
   ]
  },
  {
   "cell_type": "code",
   "execution_count": 105,
   "id": "67b583a8-b13c-4b43-9250-136fb5e6b90a",
   "metadata": {},
   "outputs": [
    {
     "data": {
      "text/plain": [
       "[0, 4, 16, 36, 64]"
      ]
     },
     "execution_count": 105,
     "metadata": {},
     "output_type": "execute_result"
    }
   ],
   "source": [
    "## Single line code\n",
    "a_sq_list = list(range(10))\n",
    "\n",
    "even_sq = [x ** 2 for x in a_sq_list if x % 2 == 0]\n",
    "even_sq"
   ]
  },
  {
   "cell_type": "code",
   "execution_count": 106,
   "id": "d07d099a-088f-46b4-84b7-55a19d411307",
   "metadata": {},
   "outputs": [
    {
     "data": {
      "text/plain": [
       "[0, 4, 8, 12, 16]"
      ]
     },
     "execution_count": 106,
     "metadata": {},
     "output_type": "execute_result"
    }
   ],
   "source": [
    "a_sq_list = list(range(10))\n",
    "\n",
    "even_sq = [x * 2 for x in a_sq_list if x % 2 == 0]\n",
    "even_sq"
   ]
  },
  {
   "cell_type": "markdown",
   "id": "e29d8005-59eb-48bf-82ac-aebaf435dff8",
   "metadata": {},
   "source": [
    "## Dictionaries"
   ]
  },
  {
   "cell_type": "code",
   "execution_count": 107,
   "id": "521def0e-fe0d-4f8c-9619-21468632c7de",
   "metadata": {},
   "outputs": [],
   "source": [
    "dict = {\"cat\": \"cute\", \"dog\":\"furry\"}"
   ]
  },
  {
   "cell_type": "code",
   "execution_count": 108,
   "id": "4b1a0eba-805f-4f75-b07c-ceeea97c8cac",
   "metadata": {},
   "outputs": [
    {
     "data": {
      "text/plain": [
       "'cute'"
      ]
     },
     "execution_count": 108,
     "metadata": {},
     "output_type": "execute_result"
    }
   ],
   "source": [
    "dict[\"cat\"]"
   ]
  },
  {
   "cell_type": "code",
   "execution_count": 109,
   "id": "43f3148c-0d60-4c78-bffa-ac07bbea6a84",
   "metadata": {},
   "outputs": [
    {
     "name": "stdout",
     "output_type": "stream",
     "text": [
      "True\n"
     ]
    }
   ],
   "source": [
    "print(\"cat\" in dict)"
   ]
  },
  {
   "cell_type": "code",
   "execution_count": 110,
   "id": "cff2f723-2dc6-4e9b-aabf-e66fd5c1eb39",
   "metadata": {},
   "outputs": [
    {
     "data": {
      "text/plain": [
       "True"
      ]
     },
     "execution_count": 110,
     "metadata": {},
     "output_type": "execute_result"
    }
   ],
   "source": [
    "\"cat\" in dict"
   ]
  },
  {
   "cell_type": "code",
   "execution_count": 111,
   "id": "6d40d2a4-3dba-4d33-8181-e70034d9f9a3",
   "metadata": {},
   "outputs": [
    {
     "data": {
      "text/plain": [
       "{'cat': 'cute', 'dog': 'furry', 'fish': 'wet'}"
      ]
     },
     "execution_count": 111,
     "metadata": {},
     "output_type": "execute_result"
    }
   ],
   "source": [
    "dict[\"fish\"] = \"wet\"\n",
    "dict"
   ]
  },
  {
   "cell_type": "code",
   "execution_count": 112,
   "id": "f43ab612-bc2a-42af-bbe3-31e937ee28fd",
   "metadata": {},
   "outputs": [
    {
     "data": {
      "text/plain": [
       "False"
      ]
     },
     "execution_count": 112,
     "metadata": {},
     "output_type": "execute_result"
    }
   ],
   "source": [
    "\"monkey\" in dict"
   ]
  },
  {
   "cell_type": "code",
   "execution_count": 116,
   "id": "1c9509a2-86cb-43b0-8ed5-f20eb0e95412",
   "metadata": {},
   "outputs": [
    {
     "data": {
      "text/plain": [
       "False"
      ]
     },
     "execution_count": 116,
     "metadata": {},
     "output_type": "execute_result"
    }
   ],
   "source": [
    "\"cute\" in dict\n"
   ]
  },
  {
   "cell_type": "code",
   "execution_count": 117,
   "id": "8f8e6c85-ede7-43e6-8d38-a3f60e19b2ea",
   "metadata": {},
   "outputs": [
    {
     "data": {
      "text/plain": [
       "True"
      ]
     },
     "execution_count": 117,
     "metadata": {},
     "output_type": "execute_result"
    }
   ],
   "source": [
    "\"cute\" in dict.values()"
   ]
  },
  {
   "cell_type": "code",
   "execution_count": 120,
   "id": "9cb96cb6-3419-4648-aade-204a744a7f59",
   "metadata": {},
   "outputs": [
    {
     "name": "stdout",
     "output_type": "stream",
     "text": [
      "N/A\n",
      "cute\n"
     ]
    }
   ],
   "source": [
    "print(dict.get(\"monkey\", \"N/A\")) #.get method works with print only, doesnot work without print\n",
    "print(dict.get(\"cat\", \"N!A\"))"
   ]
  },
  {
   "cell_type": "code",
   "execution_count": 126,
   "id": "b9134dbf-4748-4179-9531-ac7622f584b4",
   "metadata": {},
   "outputs": [
    {
     "name": "stdout",
     "output_type": "stream",
     "text": [
      " A person has 2 legs\n",
      " A cat has 4 legs\n",
      " A spider has 8 legs\n"
     ]
    }
   ],
   "source": [
    "dicto = {\"person\":2, \"cat\":4, \"spider\":8}\n",
    "\n",
    "for key, value in dicto.items():\n",
    "    print(\" A {} has {} legs\".format(key, value))\n",
    "    "
   ]
  },
  {
   "cell_type": "code",
   "execution_count": 127,
   "id": "39049b85-7420-4fc7-9fd5-d70a7a1793c9",
   "metadata": {},
   "outputs": [],
   "source": [
    "lis = list(range(5))"
   ]
  },
  {
   "cell_type": "code",
   "execution_count": 128,
   "id": "baaca9d1-1f64-4085-86d9-53d33c4571db",
   "metadata": {},
   "outputs": [
    {
     "data": {
      "text/plain": [
       "[0, 1, 2, 3, 4]"
      ]
     },
     "execution_count": 128,
     "metadata": {},
     "output_type": "execute_result"
    }
   ],
   "source": [
    "lis"
   ]
  },
  {
   "cell_type": "code",
   "execution_count": 130,
   "id": "af3a14a7-2109-4e96-9437-a1971df03b0c",
   "metadata": {},
   "outputs": [
    {
     "data": {
      "text/plain": [
       "{0: 0, 2: 4, 4: 16}"
      ]
     },
     "execution_count": 130,
     "metadata": {},
     "output_type": "execute_result"
    }
   ],
   "source": [
    "even_sq = {}\n",
    "\n",
    "for x in lis:\n",
    "    if x%2 == 0:\n",
    "        even_sq[x] = x**2\n",
    "\n",
    "even_sq"
   ]
  },
  {
   "cell_type": "code",
   "execution_count": 131,
   "id": "2a8f1c31-7117-47e9-be65-68fd00f92781",
   "metadata": {},
   "outputs": [
    {
     "data": {
      "text/plain": [
       "{0: 0, 2: 4, 4: 16}"
      ]
     },
     "execution_count": 131,
     "metadata": {},
     "output_type": "execute_result"
    }
   ],
   "source": [
    "ev_sq = { x: x**2 for x in lis if x%2 == 0}\n",
    "ev_sq"
   ]
  },
  {
   "cell_type": "markdown",
   "id": "34ec52ad-4d26-4f81-aa1b-a273ff65ee42",
   "metadata": {},
   "source": [
    "## Sets"
   ]
  },
  {
   "cell_type": "code",
   "execution_count": 132,
   "id": "a39b0ffb-0e91-49b3-8f26-6eb365e9c647",
   "metadata": {},
   "outputs": [],
   "source": [
    "animals = {\"Cat\", \"dog\", 1}"
   ]
  },
  {
   "cell_type": "code",
   "execution_count": 133,
   "id": "4e131bb7-30b6-447f-b545-a27a92147024",
   "metadata": {},
   "outputs": [
    {
     "data": {
      "text/plain": [
       "{1, 'Cat', 'dog'}"
      ]
     },
     "execution_count": 133,
     "metadata": {},
     "output_type": "execute_result"
    }
   ],
   "source": [
    "animals"
   ]
  },
  {
   "cell_type": "code",
   "execution_count": 134,
   "id": "80d56cf2-e40d-46d3-80ba-72e00b703e97",
   "metadata": {},
   "outputs": [
    {
     "data": {
      "text/plain": [
       "True"
      ]
     },
     "execution_count": 134,
     "metadata": {},
     "output_type": "execute_result"
    }
   ],
   "source": [
    "\"Cat\" in animals"
   ]
  },
  {
   "cell_type": "code",
   "execution_count": 135,
   "id": "d9548518-5d48-4b21-81fb-8139cd71d8da",
   "metadata": {},
   "outputs": [
    {
     "data": {
      "text/plain": [
       "False"
      ]
     },
     "execution_count": 135,
     "metadata": {},
     "output_type": "execute_result"
    }
   ],
   "source": [
    "\"cat\" in animals"
   ]
  },
  {
   "cell_type": "code",
   "execution_count": 136,
   "id": "8bc314ad-e7f8-4c1e-9753-e7bf21dcc433",
   "metadata": {},
   "outputs": [],
   "source": [
    "animals.add(\"fish\")"
   ]
  },
  {
   "cell_type": "code",
   "execution_count": 137,
   "id": "236bc257-4368-48b8-a61a-a8f1d1fb5b7e",
   "metadata": {},
   "outputs": [
    {
     "data": {
      "text/plain": [
       "{1, 'Cat', 'dog', 'fish'}"
      ]
     },
     "execution_count": 137,
     "metadata": {},
     "output_type": "execute_result"
    }
   ],
   "source": [
    "animals"
   ]
  },
  {
   "cell_type": "code",
   "execution_count": 140,
   "id": "9b08bc88-3b2f-4a0d-810e-dad9bfc70dd8",
   "metadata": {},
   "outputs": [],
   "source": [
    "animals.add(\"fish\") # unique values only"
   ]
  },
  {
   "cell_type": "code",
   "execution_count": 141,
   "id": "23187218-98b7-4a11-9e34-c2884d2584ce",
   "metadata": {},
   "outputs": [
    {
     "data": {
      "text/plain": [
       "{1, 'Cat', 'dog', 'fish'}"
      ]
     },
     "execution_count": 141,
     "metadata": {},
     "output_type": "execute_result"
    }
   ],
   "source": [
    "animals"
   ]
  },
  {
   "cell_type": "code",
   "execution_count": 142,
   "id": "3410f141-6964-403b-aade-455f9b475b08",
   "metadata": {},
   "outputs": [
    {
     "data": {
      "text/plain": [
       "4"
      ]
     },
     "execution_count": 142,
     "metadata": {},
     "output_type": "execute_result"
    }
   ],
   "source": [
    "len(animals)"
   ]
  },
  {
   "cell_type": "code",
   "execution_count": 146,
   "id": "6ec12a0c-d98c-4f11-9dd6-928e39814f1e",
   "metadata": {},
   "outputs": [
    {
     "name": "stdout",
     "output_type": "stream",
     "text": [
      "1: dog\n",
      "2: 1\n",
      "3: fish\n",
      "4: Cat\n"
     ]
    }
   ],
   "source": [
    "for idx, a in enumerate(animals):\n",
    "    print(\"{}: {}\".format(idx+1, a))\n",
    "    "
   ]
  },
  {
   "cell_type": "code",
   "execution_count": 149,
   "id": "3f41ab32-b367-4a31-bf39-50f8d10509a3",
   "metadata": {},
   "outputs": [
    {
     "data": {
      "text/plain": [
       "{0: 'dog', 1: 1, 2: 'fish', 3: 'Cat'}"
      ]
     },
     "execution_count": 149,
     "metadata": {},
     "output_type": "execute_result"
    }
   ],
   "source": [
    "ani = { idx: x for idx, x in enumerate(animals)}\n",
    "ani"
   ]
  },
  {
   "cell_type": "code",
   "execution_count": 151,
   "id": "cadcb878-712d-4701-9be4-1358183a98cf",
   "metadata": {},
   "outputs": [],
   "source": [
    "from math import sqrt"
   ]
  },
  {
   "cell_type": "code",
   "execution_count": 154,
   "id": "455abc2e-f041-4bee-92ad-9e5341700371",
   "metadata": {},
   "outputs": [
    {
     "name": "stdout",
     "output_type": "stream",
     "text": [
      "{0, 1, 2, 3, 4, 5, 6, 7, 8, 9, 10, 11, 12, 13, 14, 15, 16, 17, 18, 19, 20, 21, 22}\n"
     ]
    }
   ],
   "source": [
    "print({int(sqrt(x)) for x in range(500)})"
   ]
  },
  {
   "cell_type": "markdown",
   "id": "5b6bed06-bb57-4dae-8fe5-0697bc9c4334",
   "metadata": {},
   "source": [
    "## Tuples"
   ]
  },
  {
   "cell_type": "code",
   "execution_count": 155,
   "id": "71a11d38-da6f-4577-8207-c4902f20df9a",
   "metadata": {},
   "outputs": [],
   "source": [
    "a = (\"abc\", 2)"
   ]
  },
  {
   "cell_type": "code",
   "execution_count": 156,
   "id": "5b086c0a-93c3-4a96-8311-629efa17c510",
   "metadata": {},
   "outputs": [
    {
     "data": {
      "text/plain": [
       "tuple"
      ]
     },
     "execution_count": 156,
     "metadata": {},
     "output_type": "execute_result"
    }
   ],
   "source": [
    "type(a)"
   ]
  },
  {
   "cell_type": "code",
   "execution_count": 157,
   "id": "eda3389d-71a0-4eb7-bed3-d14b7ef50a93",
   "metadata": {},
   "outputs": [
    {
     "ename": "TypeError",
     "evalue": "'tuple' object does not support item assignment",
     "output_type": "error",
     "traceback": [
      "\u001b[1;31m---------------------------------------------------------------------------\u001b[0m",
      "\u001b[1;31mTypeError\u001b[0m                                 Traceback (most recent call last)",
      "Cell \u001b[1;32mIn[157], line 1\u001b[0m\n\u001b[1;32m----> 1\u001b[0m a[\u001b[38;5;241m0\u001b[39m] \u001b[38;5;241m=\u001b[39m \u001b[38;5;241m7\u001b[39m\n",
      "\u001b[1;31mTypeError\u001b[0m: 'tuple' object does not support item assignment"
     ]
    }
   ],
   "source": [
    "a[0] = 7"
   ]
  },
  {
   "cell_type": "code",
   "execution_count": 158,
   "id": "dc494ebc-ee55-48a9-a811-2ee9a1cd45b1",
   "metadata": {},
   "outputs": [],
   "source": [
    "abc = ([\"a\", \"b\"], 3)"
   ]
  },
  {
   "cell_type": "code",
   "execution_count": 159,
   "id": "398e05be-fa91-4ef0-b491-9eebfb7732ca",
   "metadata": {},
   "outputs": [],
   "source": [
    "abc[0][0] = \"ab\" # tuple is immutable but list inside tuple is mutable"
   ]
  },
  {
   "cell_type": "code",
   "execution_count": 160,
   "id": "01a64302-8c4a-4ca9-8e4c-20146d60737e",
   "metadata": {},
   "outputs": [
    {
     "data": {
      "text/plain": [
       "(['ab', 'b'], 3)"
      ]
     },
     "execution_count": 160,
     "metadata": {},
     "output_type": "execute_result"
    }
   ],
   "source": [
    "abc"
   ]
  },
  {
   "cell_type": "code",
   "execution_count": 161,
   "id": "a9974c36-8d40-4032-bfac-8af742e1a262",
   "metadata": {},
   "outputs": [
    {
     "data": {
      "text/plain": [
       "{(0, 1): 0,\n",
       " (1, 2): 1,\n",
       " (2, 3): 2,\n",
       " (3, 4): 3,\n",
       " (4, 5): 4,\n",
       " (5, 6): 5,\n",
       " (6, 7): 6,\n",
       " (7, 8): 7,\n",
       " (8, 9): 8,\n",
       " (9, 10): 9}"
      ]
     },
     "execution_count": 161,
     "metadata": {},
     "output_type": "execute_result"
    }
   ],
   "source": [
    "# dic with key is tuple\n",
    "d  = { (x, x+1) : x for x in range(10)}\n",
    "d"
   ]
  },
  {
   "cell_type": "code",
   "execution_count": 162,
   "id": "b12e1a0f-eead-4b1b-9d5b-3a9f1d5b1900",
   "metadata": {},
   "outputs": [
    {
     "data": {
      "text/plain": [
       "4"
      ]
     },
     "execution_count": 162,
     "metadata": {},
     "output_type": "execute_result"
    }
   ],
   "source": [
    "d[(4,5)]"
   ]
  },
  {
   "cell_type": "markdown",
   "id": "009e4b35-b9be-4b9b-8fb4-86f43792af85",
   "metadata": {},
   "source": [
    "## Functions"
   ]
  },
  {
   "cell_type": "code",
   "execution_count": 165,
   "id": "87b6c58c-8dc5-40fc-a332-fbb1c4861470",
   "metadata": {},
   "outputs": [],
   "source": [
    "def sign(x):\n",
    "    if x>0:\n",
    "        return \"Positive\"\n",
    "    elif x<0:\n",
    "        return \"Negative\"\n",
    "    else:\n",
    "        return \"Zero\""
   ]
  },
  {
   "cell_type": "code",
   "execution_count": 166,
   "id": "c10d0408-6e2d-4071-a620-7813e7ee179c",
   "metadata": {},
   "outputs": [
    {
     "data": {
      "text/plain": [
       "'Negative'"
      ]
     },
     "execution_count": 166,
     "metadata": {},
     "output_type": "execute_result"
    }
   ],
   "source": [
    "sign(1)\n",
    "sign(-0)\n",
    "sign(-9)"
   ]
  },
  {
   "cell_type": "code",
   "execution_count": 167,
   "id": "2bea500a-5ee2-4b7f-b208-b902e8c359cf",
   "metadata": {},
   "outputs": [],
   "source": [
    "def hello(name, loud= False):\n",
    "    if loud:\n",
    "        print(\"HELLO, {}\".format(name.upper()))\n",
    "    else:\n",
    "        print(\"Hello, {}\".format(name))\n",
    "    "
   ]
  },
  {
   "cell_type": "code",
   "execution_count": 168,
   "id": "bdf588a9-fcc4-4445-8ed6-a820230be633",
   "metadata": {},
   "outputs": [
    {
     "name": "stdout",
     "output_type": "stream",
     "text": [
      "Hello, Milan\n"
     ]
    }
   ],
   "source": [
    "hello(\"Milan\")"
   ]
  },
  {
   "cell_type": "code",
   "execution_count": 169,
   "id": "d10368f9-fd7c-4437-b53a-84a3b86fbfa1",
   "metadata": {},
   "outputs": [
    {
     "name": "stdout",
     "output_type": "stream",
     "text": [
      "HELLO, UDAY\n"
     ]
    }
   ],
   "source": [
    "hello(\"Uday\", loud= True)"
   ]
  },
  {
   "cell_type": "code",
   "execution_count": 170,
   "id": "16b0c00f-b835-49e5-aab4-9bab444221f2",
   "metadata": {},
   "outputs": [],
   "source": [
    "def check(name):\n",
    "    if name == name.upper():\n",
    "        return \"It's in upper case\"\n",
    "    \n",
    "    elif name == name.lower():\n",
    "        return \"It's in lower case\"\n",
    "    \n",
    "    elif name == name.capitalize():\n",
    "        return \"It's in Sentence case\"\n",
    "\n",
    "    else:\n",
    "        return \"No format\"\n",
    "\n"
   ]
  },
  {
   "cell_type": "code",
   "execution_count": 171,
   "id": "9c767620-a3cd-46ac-af96-b2065795cd7c",
   "metadata": {},
   "outputs": [
    {
     "data": {
      "text/plain": [
       "\"It's in Sentence case\""
      ]
     },
     "execution_count": 171,
     "metadata": {},
     "output_type": "execute_result"
    }
   ],
   "source": [
    "check(\"Uday\")"
   ]
  },
  {
   "cell_type": "code",
   "execution_count": 172,
   "id": "4baa8d2a-ed39-4b07-852f-26b21446d0ca",
   "metadata": {},
   "outputs": [
    {
     "data": {
      "text/plain": [
       "\"It's in upper case\""
      ]
     },
     "execution_count": 172,
     "metadata": {},
     "output_type": "execute_result"
    }
   ],
   "source": [
    "check(\"UDAY\")"
   ]
  },
  {
   "cell_type": "code",
   "execution_count": 173,
   "id": "691b9058-f980-4dd0-8464-c13a7b5cd5e4",
   "metadata": {},
   "outputs": [
    {
     "data": {
      "text/plain": [
       "'No format'"
      ]
     },
     "execution_count": 173,
     "metadata": {},
     "output_type": "execute_result"
    }
   ],
   "source": [
    "check(\"uDay\")"
   ]
  },
  {
   "cell_type": "markdown",
   "id": "4efecaaf-1ce7-473f-90d6-80748be39627",
   "metadata": {},
   "source": [
    "## Scope check"
   ]
  },
  {
   "cell_type": "code",
   "execution_count": 174,
   "id": "b239a5e2-24b1-4688-af32-096fc232badc",
   "metadata": {},
   "outputs": [
    {
     "name": "stdout",
     "output_type": "stream",
     "text": [
      "After local assignment: test spam\n",
      "After nonlocal assignment: nonlocal spam\n",
      "After global assignment: nonlocal spam\n",
      "In global scope: global spam\n"
     ]
    }
   ],
   "source": [
    "def scope_test():\n",
    "    def do_local():\n",
    "        spam = \"local spam\"\n",
    "\n",
    "    def do_nonlocal():\n",
    "        nonlocal spam\n",
    "        spam = \"nonlocal spam\"\n",
    "\n",
    "    def do_global():\n",
    "        global spam\n",
    "        spam = \"global spam\"\n",
    "\n",
    "    spam = \"test spam\"\n",
    "    do_local()\n",
    "    print(\"After local assignment:\", spam)\n",
    "    do_nonlocal()\n",
    "    print(\"After nonlocal assignment:\", spam)\n",
    "    do_global()\n",
    "    print(\"After global assignment:\", spam)\n",
    "\n",
    "scope_test()\n",
    "print(\"In global scope:\", spam)"
   ]
  },
  {
   "cell_type": "markdown",
   "id": "1d23ab71-f810-4e9f-921d-9f290e491d4a",
   "metadata": {},
   "source": [
    "# Classes"
   ]
  },
  {
   "cell_type": "code",
   "execution_count": 185,
   "id": "1be718fe-69c4-4a1b-ad2f-fa672451dd6e",
   "metadata": {},
   "outputs": [],
   "source": [
    "class Greeter:\n",
    "    ## Constructor\n",
    "    def __init__(self, name):\n",
    "       self.name = name # instaance variable\n",
    "\n",
    "    def greet(self, loud = False):\n",
    "        if loud:\n",
    "            print(\"HELLO, {}\".format(self.name.upper()))\n",
    "        else:\n",
    "            print(\"Hello, {}\".format(self.name))\n",
    "\n",
    "                  \n",
    "        "
   ]
  },
  {
   "cell_type": "code",
   "execution_count": 183,
   "id": "62583506-3523-4cb9-b0ae-1a972321f70a",
   "metadata": {},
   "outputs": [
    {
     "name": "stdout",
     "output_type": "stream",
     "text": [
      "HELLO, GAURAV\n"
     ]
    }
   ],
   "source": [
    "G = Greeter(\"Gaurav\")\n",
    "G.greet(loud = True)"
   ]
  },
  {
   "cell_type": "code",
   "execution_count": 186,
   "id": "20daa176-205b-421d-92bc-2669f3a04d75",
   "metadata": {},
   "outputs": [],
   "source": [
    "class bio:\n",
    "    def __init__(self, name, age):\n",
    "        self.name = name\n",
    "        self.age = age\n",
    "\n",
    "    def greet(self):\n",
    "        print(\"Hello, {}. Your age is {}.\".format(self.name, self.age))\n",
    "        "
   ]
  },
  {
   "cell_type": "code",
   "execution_count": 187,
   "id": "c32dcd34-c8a5-433e-93bf-33b76985609f",
   "metadata": {},
   "outputs": [
    {
     "name": "stdout",
     "output_type": "stream",
     "text": [
      "Hello, Uday. Your age is 15.\n"
     ]
    }
   ],
   "source": [
    "A = bio(\"Uday\", 15)\n",
    "A.greet()"
   ]
  },
  {
   "cell_type": "code",
   "execution_count": 188,
   "id": "ecc6da85-8e56-45cc-a3b7-b08374cde958",
   "metadata": {},
   "outputs": [],
   "source": [
    "import numpy as np\n",
    "import pandas as pd\n",
    "import matplotlib as plt\n",
    "import seaborn as sns"
   ]
  },
  {
   "cell_type": "code",
   "execution_count": null,
   "id": "86017431-04d0-486b-8750-501b4a54c07d",
   "metadata": {},
   "outputs": [],
   "source": []
  }
 ],
 "metadata": {
  "kernelspec": {
   "display_name": "Python 3 (ipykernel)",
   "language": "python",
   "name": "python3"
  },
  "language_info": {
   "codemirror_mode": {
    "name": "ipython",
    "version": 3
   },
   "file_extension": ".py",
   "mimetype": "text/x-python",
   "name": "python",
   "nbconvert_exporter": "python",
   "pygments_lexer": "ipython3",
   "version": "3.13.5"
  }
 },
 "nbformat": 4,
 "nbformat_minor": 5
}
