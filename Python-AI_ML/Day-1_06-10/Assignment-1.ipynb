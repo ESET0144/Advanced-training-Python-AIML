{
 "cells": [
  {
   "cell_type": "markdown",
   "id": "1e4b4ca0-eedf-4f97-bb7b-1b4ccc7471ca",
   "metadata": {},
   "source": [
    "# Basics of Python\n",
    "### Task-1 - Write python program to find the frequency of each word in a given paragraph\n",
    "### Task-2 - Create a list of tuples containing student names and marks. sort the list in descending order of marks using lambda\n",
    "### Task-3 flatten the list of list to 1D list\n"
   ]
  },
  {
   "cell_type": "code",
   "execution_count": 1,
   "id": "d4708512-d955-4cba-93dd-e338864d3797",
   "metadata": {},
   "outputs": [],
   "source": [
    "# importing libraries\n",
    "import numpy as np\n",
    "import pandas as pd"
   ]
  },
  {
   "cell_type": "code",
   "execution_count": 67,
   "id": "4db43eec-77a5-43bc-873f-fe6763a8c4f3",
   "metadata": {},
   "outputs": [],
   "source": [
    "# Task -1 Function taking input of para and giving output of dict\n",
    "\n",
    "def word_calc (para):\n",
    "    a_list = [\"a\", \"b\", \"c\", \"d\", \"e\", \"f\", \"g\", \"h\", \"i\", \"j\", \"k\", \"l\", \"m\", \"n\", \"o\", \"p\", \"q\", \"r\", \"s\", \"t\", \"u\", \"v\", \"w\", \"x\", \"y\", \"z\"]\n",
    "    a_dict = dict.fromkeys(a_list)\n",
    "    para.lower()\n",
    "    for alph in a_list:\n",
    "        a_dict[alph] = para.count(alph)\n",
    "    return a_dict"
   ]
  },
  {
   "cell_type": "code",
   "execution_count": 68,
   "id": "fd3aba3f-9ac0-4b65-a8ac-f01e02ef33e8",
   "metadata": {},
   "outputs": [
    {
     "data": {
      "text/plain": [
       "{'a': 1,\n",
       " 'b': 1,\n",
       " 'c': 1,\n",
       " 'd': 4,\n",
       " 'e': 1,\n",
       " 'f': 3,\n",
       " 'g': 1,\n",
       " 'h': 0,\n",
       " 'i': 0,\n",
       " 'j': 0,\n",
       " 'k': 1,\n",
       " 'l': 0,\n",
       " 'm': 1,\n",
       " 'n': 0,\n",
       " 'o': 0,\n",
       " 'p': 0,\n",
       " 'q': 0,\n",
       " 'r': 0,\n",
       " 's': 0,\n",
       " 't': 0,\n",
       " 'u': 0,\n",
       " 'v': 0,\n",
       " 'w': 0,\n",
       " 'x': 0,\n",
       " 'y': 0,\n",
       " 'z': 0}"
      ]
     },
     "execution_count": 68,
     "metadata": {},
     "output_type": "execute_result"
    }
   ],
   "source": [
    "# checking task-1\n",
    "para = \" abcdeffd Ad B kdfmg 1\"\n",
    "word_calc(para)"
   ]
  },
  {
   "cell_type": "code",
   "execution_count": 66,
   "id": "7c17984c-be33-4315-9a4b-b3794dbdc4c2",
   "metadata": {},
   "outputs": [
    {
     "data": {
      "text/plain": [
       "[('S', 2), ('Student-2', 54), ('Student-1', 64)]"
      ]
     },
     "execution_count": 66,
     "metadata": {},
     "output_type": "execute_result"
    }
   ],
   "source": [
    "# Task -2 create a list of tuples containing student names and marks\n",
    "\n",
    "student_marks = [(\"Student-1\", 64), (\"Student-2\", 54), (\"S\", 2)]\n",
    "\n",
    "sorted_student_marks = []\n",
    "marks = []\n",
    "for a in student_marks:\n",
    "    marks.append(a[1])\n",
    "marks.sort()\n",
    "\n",
    "for mark in marks:\n",
    "    for a_tuple in student_marks:\n",
    "        if a_tuple[1] == mark:\n",
    "            sorted_student_marks.append((a_tuple[0], mark))\n",
    "\n",
    "sorted_student_marks  "
   ]
  },
  {
   "cell_type": "code",
   "execution_count": 63,
   "id": "6d17e4f9-d6b3-4ca2-9cf2-40f93ba28608",
   "metadata": {},
   "outputs": [],
   "source": [
    "# Task-3 Flatten the list\n",
    "\n",
    "a = [1, [1,2], [1,2],3]\n",
    "def f(lis):\n",
    "    flat_a = []\n",
    "    def fl(lis):\n",
    "        for x in lis:\n",
    "            #print(type(x))\n",
    "            if str(type(x)) == \"<class 'list'>\":\n",
    "                fl(x)    \n",
    "            else:\n",
    "                flat_a.append(x)\n",
    "    fl(lis)\n",
    "    return flat_a"
   ]
  },
  {
   "cell_type": "code",
   "execution_count": 65,
   "id": "84b92d75-9bce-4a51-be83-375a6b58f914",
   "metadata": {},
   "outputs": [
    {
     "data": {
      "text/plain": [
       "[1, 1, 2, 1, 2, 3]"
      ]
     },
     "execution_count": 65,
     "metadata": {},
     "output_type": "execute_result"
    }
   ],
   "source": [
    "# checking Task-3\n",
    "a = [1, [[1,2], [1,2]],3]\n",
    "f(a)"
   ]
  }
 ],
 "metadata": {
  "kernelspec": {
   "display_name": "Python [conda env:base] *",
   "language": "python",
   "name": "conda-base-py"
  },
  "language_info": {
   "codemirror_mode": {
    "name": "ipython",
    "version": 3
   },
   "file_extension": ".py",
   "mimetype": "text/x-python",
   "name": "python",
   "nbconvert_exporter": "python",
   "pygments_lexer": "ipython3",
   "version": "3.13.5"
  }
 },
 "nbformat": 4,
 "nbformat_minor": 5
}
