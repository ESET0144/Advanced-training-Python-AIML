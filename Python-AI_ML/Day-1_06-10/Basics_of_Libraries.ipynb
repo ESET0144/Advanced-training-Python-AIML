{
 "cells": [
  {
   "cell_type": "code",
   "execution_count": 2,
   "id": "5a873443-5ac6-4ab7-9e83-bced7115c0db",
   "metadata": {},
   "outputs": [],
   "source": [
    "import numpy as np\n",
    "import pandas as pd\n",
    "import matplotlib.pyplot as plt\n",
    "import seaborn as sns"
   ]
  },
  {
   "cell_type": "markdown",
   "id": "d62b6e8a-bb15-4bdf-8a4d-5c761d70a4d0",
   "metadata": {},
   "source": [
    "# Arrays"
   ]
  },
  {
   "cell_type": "code",
   "execution_count": 3,
   "id": "ca7dc5a7-1659-41bb-a85b-65b7f1551303",
   "metadata": {},
   "outputs": [],
   "source": [
    "X = np.array([1,2,3])"
   ]
  },
  {
   "cell_type": "code",
   "execution_count": 6,
   "id": "fbbd10f4-3a97-4c49-ac93-d36d2a4f417f",
   "metadata": {},
   "outputs": [
    {
     "data": {
      "text/plain": [
       "(numpy.ndarray, (3,), np.int64(1), np.int64(2), np.int64(3))"
      ]
     },
     "execution_count": 6,
     "metadata": {},
     "output_type": "execute_result"
    }
   ],
   "source": [
    "type(X), X.shape, X[0], X[1], X[2]"
   ]
  },
  {
   "cell_type": "code",
   "execution_count": 7,
   "id": "7b3763cd-ae19-4894-a10a-4b05fc80149f",
   "metadata": {},
   "outputs": [
    {
     "name": "stdout",
     "output_type": "stream",
     "text": [
      "<class 'numpy.ndarray'> (3,) 1 2 3\n"
     ]
    }
   ],
   "source": [
    "print(type(X), X.shape, X[0], X[1], X[2])"
   ]
  },
  {
   "cell_type": "code",
   "execution_count": 8,
   "id": "86592f17-a905-4070-b5a7-c155f0a8cf19",
   "metadata": {},
   "outputs": [],
   "source": [
    "y = np.array([[1,3,4], [2,5,4]])"
   ]
  },
  {
   "cell_type": "code",
   "execution_count": 10,
   "id": "66b1bb5f-941a-422c-b1d4-9b266d3a5bed",
   "metadata": {},
   "outputs": [
    {
     "data": {
      "text/plain": [
       "(2, 3)"
      ]
     },
     "execution_count": 10,
     "metadata": {},
     "output_type": "execute_result"
    }
   ],
   "source": [
    "y.shape"
   ]
  },
  {
   "cell_type": "code",
   "execution_count": 12,
   "id": "8e5a5617-58f8-4803-ba59-5d73f55eb376",
   "metadata": {},
   "outputs": [
    {
     "name": "stdout",
     "output_type": "stream",
     "text": [
      "5\n"
     ]
    }
   ],
   "source": [
    "print(y[1][1])"
   ]
  },
  {
   "cell_type": "code",
   "execution_count": 13,
   "id": "dc9aeb7d-e50f-48f4-9f88-58e85b8fd0af",
   "metadata": {},
   "outputs": [],
   "source": [
    "z= np.zeros((2,2))"
   ]
  },
  {
   "cell_type": "code",
   "execution_count": 14,
   "id": "21fe9489-85f1-4d1c-899f-75dfbd06ba62",
   "metadata": {},
   "outputs": [
    {
     "data": {
      "text/plain": [
       "array([[0., 0.],\n",
       "       [0., 0.]])"
      ]
     },
     "execution_count": 14,
     "metadata": {},
     "output_type": "execute_result"
    }
   ],
   "source": [
    "z"
   ]
  },
  {
   "cell_type": "code",
   "execution_count": 16,
   "id": "de8f7bf4-fbc2-49b5-b057-47295bf62d57",
   "metadata": {},
   "outputs": [],
   "source": [
    "o = np.ones((2,3))"
   ]
  },
  {
   "cell_type": "code",
   "execution_count": 17,
   "id": "34f833e8-653b-46a6-94e2-3babe60400f5",
   "metadata": {},
   "outputs": [
    {
     "data": {
      "text/plain": [
       "array([[1., 1., 1.],\n",
       "       [1., 1., 1.]])"
      ]
     },
     "execution_count": 17,
     "metadata": {},
     "output_type": "execute_result"
    }
   ],
   "source": [
    "o"
   ]
  },
  {
   "cell_type": "code",
   "execution_count": 20,
   "id": "6bd37ac7-2444-4cdd-8422-74422e44acc6",
   "metadata": {},
   "outputs": [],
   "source": [
    "i = np.eye(3) #Identity matrix"
   ]
  },
  {
   "cell_type": "code",
   "execution_count": 21,
   "id": "6cd66350-bff3-443f-ab67-17e443eb78a4",
   "metadata": {},
   "outputs": [
    {
     "data": {
      "text/plain": [
       "array([[1., 0., 0.],\n",
       "       [0., 1., 0.],\n",
       "       [0., 0., 1.]])"
      ]
     },
     "execution_count": 21,
     "metadata": {},
     "output_type": "execute_result"
    }
   ],
   "source": [
    "i"
   ]
  },
  {
   "cell_type": "code",
   "execution_count": 24,
   "id": "40d5e530-7c99-4892-98e2-040c23a1d19a",
   "metadata": {},
   "outputs": [],
   "source": [
    "c = np.full((2,3), 4) # for defining matrix with constant"
   ]
  },
  {
   "cell_type": "code",
   "execution_count": 25,
   "id": "e820c2ce-1895-4e99-a86c-3c5c1b718e47",
   "metadata": {},
   "outputs": [
    {
     "data": {
      "text/plain": [
       "array([[4, 4, 4],\n",
       "       [4, 4, 4]])"
      ]
     },
     "execution_count": 25,
     "metadata": {},
     "output_type": "execute_result"
    }
   ],
   "source": [
    "c"
   ]
  },
  {
   "cell_type": "code",
   "execution_count": 34,
   "id": "89291576-90cb-44a3-a487-8c76cc6b9820",
   "metadata": {},
   "outputs": [],
   "source": [
    "rand = np.random.random((3,3,3))"
   ]
  },
  {
   "cell_type": "code",
   "execution_count": 35,
   "id": "c4c99d8e-7cfa-4362-a8ce-50d2255094b1",
   "metadata": {},
   "outputs": [
    {
     "data": {
      "text/plain": [
       "array([[[0.89153284, 0.30919928, 0.71940555],\n",
       "        [0.50836925, 0.24659553, 0.85947502],\n",
       "        [0.1681448 , 0.03504619, 0.91777874]],\n",
       "\n",
       "       [[0.89135684, 0.60855159, 0.71898094],\n",
       "        [0.01329528, 0.08480946, 0.29882674],\n",
       "        [0.03181844, 0.70689246, 0.69426881]],\n",
       "\n",
       "       [[0.46990495, 0.46234661, 0.03009059],\n",
       "        [0.21611321, 0.68107769, 0.90411498],\n",
       "        [0.29820441, 0.25892618, 0.5869089 ]]])"
      ]
     },
     "execution_count": 35,
     "metadata": {},
     "output_type": "execute_result"
    }
   ],
   "source": [
    "rand"
   ]
  },
  {
   "cell_type": "code",
   "execution_count": 36,
   "id": "f1928150-cd41-4b4f-9601-c2d4fccfbad9",
   "metadata": {},
   "outputs": [],
   "source": [
    "b = rand[:][0][0]"
   ]
  },
  {
   "cell_type": "code",
   "execution_count": 37,
   "id": "17c759cb-698c-4c85-9851-0fc970e81dd6",
   "metadata": {},
   "outputs": [
    {
     "data": {
      "text/plain": [
       "array([0.89153284, 0.30919928, 0.71940555])"
      ]
     },
     "execution_count": 37,
     "metadata": {},
     "output_type": "execute_result"
    }
   ],
   "source": [
    "b"
   ]
  },
  {
   "cell_type": "code",
   "execution_count": 49,
   "id": "eda1d776-080f-4dce-a5cb-43968dadfc91",
   "metadata": {},
   "outputs": [],
   "source": [
    "b= rand[:2][0][-1]"
   ]
  },
  {
   "cell_type": "code",
   "execution_count": 50,
   "id": "70ac4166-8bd4-4605-b68c-85f1086fac34",
   "metadata": {},
   "outputs": [
    {
     "data": {
      "text/plain": [
       "array([0.1681448 , 0.03504619, 0.91777874])"
      ]
     },
     "execution_count": 50,
     "metadata": {},
     "output_type": "execute_result"
    }
   ],
   "source": [
    "b"
   ]
  },
  {
   "cell_type": "code",
   "execution_count": 51,
   "id": "0998295b-db3b-43a4-8fef-259a01404e8b",
   "metadata": {},
   "outputs": [],
   "source": [
    "c = np.array([[1,2,3], [4,5,6],[7,8,9]])"
   ]
  },
  {
   "cell_type": "code",
   "execution_count": 52,
   "id": "0ed5dbd5-d3e9-4a8c-bbd3-ea57e64abeed",
   "metadata": {},
   "outputs": [
    {
     "data": {
      "text/plain": [
       "array([[1, 2, 3],\n",
       "       [4, 5, 6],\n",
       "       [7, 8, 9]])"
      ]
     },
     "execution_count": 52,
     "metadata": {},
     "output_type": "execute_result"
    }
   ],
   "source": [
    "c"
   ]
  },
  {
   "cell_type": "code",
   "execution_count": 56,
   "id": "8b5247b5-fddb-4488-9028-a38cc45a65ee",
   "metadata": {},
   "outputs": [
    {
     "data": {
      "text/plain": [
       "array([[2, 3],\n",
       "       [5, 6]])"
      ]
     },
     "execution_count": 56,
     "metadata": {},
     "output_type": "execute_result"
    }
   ],
   "source": [
    "c[:2,1:3]"
   ]
  },
  {
   "cell_type": "code",
   "execution_count": 57,
   "id": "bb5c70e2-5118-42d3-bb32-a78e942aa0d4",
   "metadata": {},
   "outputs": [
    {
     "data": {
      "text/plain": [
       "array([[5, 6],\n",
       "       [8, 9]])"
      ]
     },
     "execution_count": 57,
     "metadata": {},
     "output_type": "execute_result"
    }
   ],
   "source": [
    "c[1:3, 1:3]"
   ]
  },
  {
   "cell_type": "code",
   "execution_count": 58,
   "id": "d174c86b-958e-470b-adf9-460b658a7755",
   "metadata": {},
   "outputs": [],
   "source": [
    "ar = np.array([[1,2,3,4],[5,6,7,8],[9,10,11,12]])"
   ]
  },
  {
   "cell_type": "code",
   "execution_count": 59,
   "id": "e33f93ac-35db-416b-9e3c-dbf49053199c",
   "metadata": {},
   "outputs": [
    {
     "data": {
      "text/plain": [
       "array([[ 1,  2,  3,  4],\n",
       "       [ 5,  6,  7,  8],\n",
       "       [ 9, 10, 11, 12]])"
      ]
     },
     "execution_count": 59,
     "metadata": {},
     "output_type": "execute_result"
    }
   ],
   "source": [
    "ar"
   ]
  },
  {
   "cell_type": "code",
   "execution_count": 70,
   "id": "571010e0-c6c2-4cdb-b8c6-0dacf5bc1c97",
   "metadata": {},
   "outputs": [],
   "source": [
    "row_r1 = ar[1,:] #second row with rank 1"
   ]
  },
  {
   "cell_type": "code",
   "execution_count": 71,
   "id": "8dcd37f8-f954-4095-80aa-80e5c46f1b5e",
   "metadata": {},
   "outputs": [],
   "source": [
    "row_r2 = ar[1:2, :] #second row with rank 2"
   ]
  },
  {
   "cell_type": "code",
   "execution_count": 72,
   "id": "438c45cb-148e-442e-84ff-8f2f98a4dc37",
   "metadata": {},
   "outputs": [],
   "source": [
    "row_r3 = ar[[1],:] #second row with rank 2"
   ]
  },
  {
   "cell_type": "code",
   "execution_count": 73,
   "id": "20e14783-8c9b-4440-bf36-677c7b3627a7",
   "metadata": {},
   "outputs": [
    {
     "name": "stdout",
     "output_type": "stream",
     "text": [
      "[5 6 7 8] (4,)\n",
      "[[5 6 7 8]] (1, 4)\n",
      "[[5 6 7 8]] (1, 4)\n"
     ]
    }
   ],
   "source": [
    "print(row_r1, row_r1.shape)\n",
    "print(row_r2, row_r2.shape)\n",
    "print(row_r3, row_r3.shape)"
   ]
  },
  {
   "cell_type": "code",
   "execution_count": 74,
   "id": "3b794ed2-03d8-4506-b135-c109b99252c5",
   "metadata": {},
   "outputs": [],
   "source": [
    "col_c1 = ar[:, 1]\n",
    "col_c2 = ar[:, 1:2]\n",
    "col_c3 = ar[:, [1]]"
   ]
  },
  {
   "cell_type": "code",
   "execution_count": 75,
   "id": "eb665db3-e626-4e70-8ba1-b62abe6d73b5",
   "metadata": {},
   "outputs": [
    {
     "name": "stdout",
     "output_type": "stream",
     "text": [
      "[ 2  6 10] (3,)\n",
      "[[ 2]\n",
      " [ 6]\n",
      " [10]] (3, 1)\n",
      "[[ 2]\n",
      " [ 6]\n",
      " [10]] (3, 1)\n"
     ]
    }
   ],
   "source": [
    "print(col_c1, col_c1.shape)\n",
    "print(col_c2, col_c2.shape)\n",
    "print(col_c3, col_c3.shape)"
   ]
  },
  {
   "cell_type": "markdown",
   "id": "21d58343-a515-4831-b659-7299563362fa",
   "metadata": {},
   "source": [
    "## Creating array using indices"
   ]
  },
  {
   "cell_type": "code",
   "execution_count": 81,
   "id": "06a2eaf3-68b1-4101-b301-3ed330353173",
   "metadata": {},
   "outputs": [
    {
     "data": {
      "text/plain": [
       "array([0, 1, 2])"
      ]
     },
     "execution_count": 81,
     "metadata": {},
     "output_type": "execute_result"
    }
   ],
   "source": [
    "b = np.array([0, 1, 2]) # created to define indices\n",
    "b"
   ]
  },
  {
   "cell_type": "code",
   "execution_count": 82,
   "id": "9a7d2223-4094-4026-9296-8dd2ffd6ed39",
   "metadata": {},
   "outputs": [
    {
     "name": "stdout",
     "output_type": "stream",
     "text": [
      "[11 16 21]\n"
     ]
    }
   ],
   "source": [
    "print(ar[np.arange(3), b]) #printing specified indices"
   ]
  },
  {
   "cell_type": "code",
   "execution_count": 83,
   "id": "37d3c7dc-de47-4fdc-812f-e116264b9116",
   "metadata": {},
   "outputs": [
    {
     "data": {
      "text/plain": [
       "array([[21,  2,  3,  4],\n",
       "       [ 5, 26,  7,  8],\n",
       "       [ 9, 10, 31, 12]])"
      ]
     },
     "execution_count": 83,
     "metadata": {},
     "output_type": "execute_result"
    }
   ],
   "source": [
    "ar[np.arange(3), b] += 10 #changing values of those indices\n",
    "ar"
   ]
  },
  {
   "cell_type": "code",
   "execution_count": 86,
   "id": "fb0ac827-b6df-4142-8484-1a571df676f7",
   "metadata": {},
   "outputs": [
    {
     "data": {
      "text/plain": [
       "array([[ True, False, False, False],\n",
       "       [False,  True,  True,  True],\n",
       "       [ True,  True,  True,  True]])"
      ]
     },
     "execution_count": 86,
     "metadata": {},
     "output_type": "execute_result"
    }
   ],
   "source": [
    "bool_idx = (ar>5) #boolian matrix\n",
    "bool_idx"
   ]
  },
  {
   "cell_type": "code",
   "execution_count": 88,
   "id": "b906e891-9555-4a9d-82e5-d29fe776638e",
   "metadata": {},
   "outputs": [],
   "source": [
    "br = np.array([[1,2,3,4],[5,6,7,8],[9,10,11,12]])"
   ]
  },
  {
   "cell_type": "code",
   "execution_count": 89,
   "id": "5b1c119a-c3f2-4d22-988e-db44cdecb709",
   "metadata": {},
   "outputs": [
    {
     "name": "stdout",
     "output_type": "stream",
     "text": [
      "[[22  4  6  8]\n",
      " [10 32 14 16]\n",
      " [18 20 42 24]]\n"
     ]
    }
   ],
   "source": [
    "print(ar+br)"
   ]
  },
  {
   "cell_type": "code",
   "execution_count": 90,
   "id": "03b5f943-58bf-438c-9eea-5ccb523353b5",
   "metadata": {},
   "outputs": [
    {
     "name": "stdout",
     "output_type": "stream",
     "text": [
      "[[20  0  0  0]\n",
      " [ 0 20  0  0]\n",
      " [ 0  0 20  0]]\n"
     ]
    }
   ],
   "source": [
    "print(ar-br)"
   ]
  },
  {
   "cell_type": "code",
   "execution_count": 91,
   "id": "fa6378f3-7659-444a-808c-269658fa3cda",
   "metadata": {},
   "outputs": [
    {
     "name": "stdout",
     "output_type": "stream",
     "text": [
      "[[22  4  6  8]\n",
      " [10 32 14 16]\n",
      " [18 20 42 24]]\n"
     ]
    }
   ],
   "source": [
    "print(np.add(ar, br))"
   ]
  },
  {
   "cell_type": "code",
   "execution_count": null,
   "id": "b9a2cffe-6f23-40a0-ba27-c2985baa90d8",
   "metadata": {},
   "outputs": [],
   "source": []
  }
 ],
 "metadata": {
  "kernelspec": {
   "display_name": "Python [conda env:base] *",
   "language": "python",
   "name": "conda-base-py"
  },
  "language_info": {
   "codemirror_mode": {
    "name": "ipython",
    "version": 3
   },
   "file_extension": ".py",
   "mimetype": "text/x-python",
   "name": "python",
   "nbconvert_exporter": "python",
   "pygments_lexer": "ipython3",
   "version": "3.13.5"
  }
 },
 "nbformat": 4,
 "nbformat_minor": 5
}
